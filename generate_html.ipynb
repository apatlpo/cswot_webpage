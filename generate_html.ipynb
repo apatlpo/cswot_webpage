{
 "cells": [
  {
   "cell_type": "code",
   "execution_count": 35,
   "id": "a7e9a746-a4ba-46a5-bb26-495fa2d513cf",
   "metadata": {},
   "outputs": [],
   "source": [
    "import numpy as np\n",
    "import pandas as pd\n",
    "#import xarray as xr\n",
    "\n",
    "import hvplot.pandas  # noqa\n",
    "import hvplot.xarray  # noqa\n",
    "\n",
    "import holoviews as hv"
   ]
  },
  {
   "cell_type": "code",
   "execution_count": 14,
   "id": "c6e61ef4-ee19-4d2a-8584-bdd7e1643ea0",
   "metadata": {
    "jupyter": {
     "source_hidden": true
    },
    "tags": []
   },
   "outputs": [],
   "source": [
    "deg2rad = np.pi/180\n",
    "\n",
    "def generate_one_trajectory(u_mean=0, v_mean=0, u_wave=0, noise=0, id=0):\n",
    "\n",
    "    freq = \"1H\"\n",
    "\n",
    "    time_unit = pd.Timedelta(\"1s\")\n",
    "    dt = pd.Timedelta(freq) / time_unit\n",
    "    time = pd.date_range(start=\"2018-01-01\", end=\"2018-01-15\", freq=freq)\n",
    "    _time = (time - time[0]) / time_unit\n",
    "\n",
    "    lon0, lat0 = -20, 30\n",
    "    scale_lat = 111e3\n",
    "    scale_lon = scale_lat * np.cos(lat0 * deg2rad)\n",
    "    \n",
    "    T = pd.Timedelta(\"1D\") / time_unit\n",
    "\n",
    "    u = (\n",
    "        u_mean\n",
    "        + u_wave * np.cos(2 * np.pi * _time / T)\n",
    "        + np.random.randn(time.size) * noise\n",
    "    )\n",
    "    v = (\n",
    "        v_mean\n",
    "        + u_wave * np.sin(2 * np.pi * _time / T)\n",
    "        + np.random.randn(time.size) * noise\n",
    "    )\n",
    "\n",
    "    lon = lon0 + np.cumsum(u) * dt / scale_lon\n",
    "    lat = lat0 + np.cumsum(v) * dt / scale_lat\n",
    "\n",
    "    df = pd.DataFrame(dict(lon=lon, lat=lat, time=time))\n",
    "    df[\"id\"] = id\n",
    "    df = df.set_index(\"time\")\n",
    "\n",
    "    return df"
   ]
  },
  {
   "cell_type": "code",
   "execution_count": 19,
   "id": "66d2d108-784f-4dbd-b112-9a2fbb45c393",
   "metadata": {},
   "outputs": [],
   "source": [
    "# actually generate one time series\n",
    "df = generate_one_trajectory(u_mean=-0.1, v_mean=0, u_wave=0.1, noise=0.05, id=0)"
   ]
  },
  {
   "cell_type": "code",
   "execution_count": 36,
   "id": "778b19b9-8a26-41f0-84a7-94895589c10a",
   "metadata": {},
   "outputs": [],
   "source": [
    "dkwargs = dict(hover_cols=[\"time\"], frame_width=400, frame_height=300)\n",
    "\n",
    "coords = \"geo\"\n",
    "coords = dict(x=\"lon\", y=\"lat\", geo=True)\n",
    "\n",
    "dkwargs = dict(**coords, **dkwargs)\n",
    "dkwargs[\"tiles\"] = \"CartoLight\"\n",
    "\n",
    "hdl = df.hvplot.points(**dkwargs)"
   ]
  },
  {
   "cell_type": "code",
   "execution_count": 37,
   "id": "3aeaa955-e5bb-49b5-953a-cf5ef477df39",
   "metadata": {},
   "outputs": [
    {
     "data": {},
     "metadata": {},
     "output_type": "display_data"
    },
    {
     "data": {
      "application/vnd.holoviews_exec.v0+json": "",
      "text/html": [
       "<div id='3058'>\n",
       "  <div class=\"bk-root\" id=\"101693e0-91b2-42ff-a4e9-9a1c4a92a110\" data-root-id=\"3058\"></div>\n",
       "</div>\n",
       "<script type=\"application/javascript\">(function(root) {\n",
       "  function embed_document(root) {\n",
       "    var docs_json = {\"7218fc01-716e-43ca-b852-3ceb7af6d936\":{\"defs\":[{\"extends\":null,\"module\":null,\"name\":\"ReactiveHTML1\",\"overrides\":[],\"properties\":[]},{\"extends\":null,\"module\":null,\"name\":\"FlexBox1\",\"overrides\":[],\"properties\":[{\"default\":\"flex-start\",\"kind\":null,\"name\":\"align_content\"},{\"default\":\"flex-start\",\"kind\":null,\"name\":\"align_items\"},{\"default\":\"row\",\"kind\":null,\"name\":\"flex_direction\"},{\"default\":\"wrap\",\"kind\":null,\"name\":\"flex_wrap\"},{\"default\":\"flex-start\",\"kind\":null,\"name\":\"justify_content\"}]},{\"extends\":null,\"module\":null,\"name\":\"GridStack1\",\"overrides\":[],\"properties\":[{\"default\":\"warn\",\"kind\":null,\"name\":\"mode\"},{\"default\":null,\"kind\":null,\"name\":\"ncols\"},{\"default\":null,\"kind\":null,\"name\":\"nrows\"},{\"default\":true,\"kind\":null,\"name\":\"allow_resize\"},{\"default\":true,\"kind\":null,\"name\":\"allow_drag\"},{\"default\":[],\"kind\":null,\"name\":\"state\"}]},{\"extends\":null,\"module\":null,\"name\":\"click1\",\"overrides\":[],\"properties\":[{\"default\":\"\",\"kind\":null,\"name\":\"terminal_output\"},{\"default\":\"\",\"kind\":null,\"name\":\"debug_name\"},{\"default\":0,\"kind\":null,\"name\":\"clears\"}]},{\"extends\":null,\"module\":null,\"name\":\"NotificationAreaBase1\",\"overrides\":[],\"properties\":[{\"default\":\"bottom-right\",\"kind\":null,\"name\":\"position\"},{\"default\":0,\"kind\":null,\"name\":\"_clear\"}]},{\"extends\":null,\"module\":null,\"name\":\"NotificationArea1\",\"overrides\":[],\"properties\":[{\"default\":[],\"kind\":null,\"name\":\"notifications\"},{\"default\":\"bottom-right\",\"kind\":null,\"name\":\"position\"},{\"default\":0,\"kind\":null,\"name\":\"_clear\"},{\"default\":[{\"background\":\"#ffc107\",\"icon\":{\"className\":\"fas fa-exclamation-triangle\",\"color\":\"white\",\"tagName\":\"i\"},\"type\":\"warning\"},{\"background\":\"#007bff\",\"icon\":{\"className\":\"fas fa-info-circle\",\"color\":\"white\",\"tagName\":\"i\"},\"type\":\"info\"}],\"kind\":null,\"name\":\"types\"}]},{\"extends\":null,\"module\":null,\"name\":\"Notification\",\"overrides\":[],\"properties\":[{\"default\":null,\"kind\":null,\"name\":\"background\"},{\"default\":3000,\"kind\":null,\"name\":\"duration\"},{\"default\":null,\"kind\":null,\"name\":\"icon\"},{\"default\":\"\",\"kind\":null,\"name\":\"message\"},{\"default\":null,\"kind\":null,\"name\":\"notification_type\"},{\"default\":false,\"kind\":null,\"name\":\"_destroyed\"}]},{\"extends\":null,\"module\":null,\"name\":\"TemplateActions1\",\"overrides\":[],\"properties\":[{\"default\":0,\"kind\":null,\"name\":\"open_modal\"},{\"default\":0,\"kind\":null,\"name\":\"close_modal\"}]},{\"extends\":null,\"module\":null,\"name\":\"MaterialTemplateActions1\",\"overrides\":[],\"properties\":[{\"default\":0,\"kind\":null,\"name\":\"open_modal\"},{\"default\":0,\"kind\":null,\"name\":\"close_modal\"}]}],\"roots\":{\"references\":[{\"attributes\":{\"below\":[{\"id\":\"3080\"}],\"center\":[{\"id\":\"3083\"},{\"id\":\"3087\"}],\"frame_height\":300,\"frame_width\":400,\"height\":null,\"left\":[{\"id\":\"3084\"}],\"margin\":[5,5,5,5],\"match_aspect\":true,\"min_border_bottom\":10,\"min_border_left\":10,\"min_border_right\":10,\"min_border_top\":10,\"renderers\":[{\"id\":\"3132\"},{\"id\":\"3140\"}],\"sizing_mode\":\"fixed\",\"title\":{\"id\":\"3072\"},\"toolbar\":{\"id\":\"3094\"},\"width\":null,\"x_range\":{\"id\":\"3064\"},\"x_scale\":{\"id\":\"3076\"},\"y_range\":{\"id\":\"3065\"},\"y_scale\":{\"id\":\"3078\"}},\"id\":\"3071\",\"subtype\":\"Figure\",\"type\":\"Plot\"},{\"attributes\":{\"end\":-2214960.3581563486,\"min_interval\":5,\"reset_end\":-2214960.3581563486,\"reset_start\":-2385505.2446993478,\"start\":-2385505.2446993478,\"tags\":[[[\"lon\",\"lon\",null]]]},\"id\":\"3064\",\"type\":\"Range1d\"},{\"attributes\":{},\"id\":\"3076\",\"type\":\"LinearScale\"},{\"attributes\":{\"axis\":{\"id\":\"3084\"},\"coordinates\":null,\"dimension\":1,\"grid_line_color\":null,\"group\":null,\"ticker\":null},\"id\":\"3087\",\"type\":\"Grid\"},{\"attributes\":{\"fill_color\":{\"value\":\"#30a2da\"},\"hatch_color\":{\"value\":\"#30a2da\"},\"line_color\":{\"value\":\"#30a2da\"},\"size\":{\"value\":5.477225575051661},\"x\":{\"field\":\"lon\"},\"y\":{\"field\":\"lat\"}},\"id\":\"3137\",\"type\":\"Scatter\"},{\"attributes\":{},\"id\":\"3109\",\"type\":\"AllLabels\"},{\"attributes\":{\"code\":\"\\n        var projections = Bokeh.require(\\\"core/util/projections\\\");\\n        var x = special_vars.data_x\\n        var y = special_vars.data_y\\n        if (projections.wgs84_mercator.invert == null) {\\n          var coords = projections.wgs84_mercator.inverse([x, y])\\n        } else {\\n          var coords = projections.wgs84_mercator.invert(x, y)\\n        }\\n        return \\\"\\\" + (coords[1]).toFixed(4)\\n    \"},\"id\":\"3143\",\"type\":\"CustomJSHover\"},{\"attributes\":{\"margin\":[5,5,5,5],\"name\":\"HSpacer02966\",\"sizing_mode\":\"stretch_width\"},\"id\":\"3151\",\"type\":\"Spacer\"},{\"attributes\":{\"fill_alpha\":{\"value\":0.2},\"fill_color\":{\"value\":\"#30a2da\"},\"hatch_alpha\":{\"value\":0.2},\"hatch_color\":{\"value\":\"#30a2da\"},\"line_alpha\":{\"value\":0.2},\"line_color\":{\"value\":\"#30a2da\"},\"size\":{\"value\":5.477225575051661},\"x\":{\"field\":\"lon\"},\"y\":{\"field\":\"lat\"}},\"id\":\"3139\",\"type\":\"Scatter\"},{\"attributes\":{\"callback\":null,\"formatters\":{\"$x\":{\"id\":\"3142\"},\"$y\":{\"id\":\"3143\"},\"@{time}\":\"datetime\"},\"renderers\":[{\"id\":\"3140\"}],\"tags\":[\"hv_created\"],\"tooltips\":[[\"lon\",\"$x{custom}\"],[\"lat\",\"$y{custom}\"],[\"time\",\"@{time}{%F %T}\"]]},\"id\":\"3068\",\"type\":\"HoverTool\"},{\"attributes\":{\"coordinates\":null,\"group\":null,\"level\":\"glyph\",\"tile_source\":{\"id\":\"3129\"}},\"id\":\"3132\",\"type\":\"TileRenderer\"},{\"attributes\":{},\"id\":\"3092\",\"type\":\"ResetTool\"},{\"attributes\":{\"match_aspect\":true,\"overlay\":{\"id\":\"3093\"}},\"id\":\"3091\",\"type\":\"BoxZoomTool\"},{\"attributes\":{},\"id\":\"3088\",\"type\":\"SaveTool\"},{\"attributes\":{\"axis_label\":\"y\",\"coordinates\":null,\"formatter\":{\"id\":\"3106\"},\"group\":null,\"major_label_policy\":{\"id\":\"3116\"},\"ticker\":{\"id\":\"3105\"}},\"id\":\"3084\",\"type\":\"LinearAxis\"},{\"attributes\":{\"axis_label\":\"x\",\"coordinates\":null,\"formatter\":{\"id\":\"3104\"},\"group\":null,\"major_label_policy\":{\"id\":\"3109\"},\"ticker\":{\"id\":\"3103\"}},\"id\":\"3080\",\"type\":\"LinearAxis\"},{\"attributes\":{\"code\":\"\\n        var projections = Bokeh.require(\\\"core/util/projections\\\");\\n        var x = special_vars.data_x\\n        var y = special_vars.data_y\\n        if (projections.wgs84_mercator.invert == null) {\\n          var coords = projections.wgs84_mercator.inverse([x, y])\\n        } else {\\n          var coords = projections.wgs84_mercator.invert(x, y)\\n        }\\n        return \\\"\\\" + (coords[0]).toFixed(4)\\n    \"},\"id\":\"3142\",\"type\":\"CustomJSHover\"},{\"attributes\":{},\"id\":\"3135\",\"type\":\"Selection\"},{\"attributes\":{\"dimension\":\"lat\"},\"id\":\"3106\",\"type\":\"MercatorTickFormatter\"},{\"attributes\":{\"axis\":{\"id\":\"3080\"},\"coordinates\":null,\"grid_line_color\":null,\"group\":null,\"ticker\":null},\"id\":\"3083\",\"type\":\"Grid\"},{\"attributes\":{},\"id\":\"3148\",\"type\":\"UnionRenderers\"},{\"attributes\":{},\"id\":\"3078\",\"type\":\"LinearScale\"},{\"attributes\":{\"dimension\":\"lon\"},\"id\":\"3103\",\"type\":\"MercatorTicker\"},{\"attributes\":{\"coordinates\":null,\"data_source\":{\"id\":\"3134\"},\"glyph\":{\"id\":\"3137\"},\"group\":null,\"hover_glyph\":null,\"muted_glyph\":{\"id\":\"3139\"},\"nonselection_glyph\":{\"id\":\"3138\"},\"selection_glyph\":{\"id\":\"3144\"},\"view\":{\"id\":\"3141\"}},\"id\":\"3140\",\"type\":\"GlyphRenderer\"},{\"attributes\":{\"bottom_units\":\"screen\",\"coordinates\":null,\"fill_alpha\":0.5,\"fill_color\":\"lightgrey\",\"group\":null,\"left_units\":\"screen\",\"level\":\"overlay\",\"line_alpha\":1.0,\"line_color\":\"black\",\"line_dash\":[4,4],\"line_width\":2,\"right_units\":\"screen\",\"syncable\":false,\"top_units\":\"screen\"},\"id\":\"3093\",\"type\":\"BoxAnnotation\"},{\"attributes\":{\"dimension\":\"lat\"},\"id\":\"3105\",\"type\":\"MercatorTicker\"},{\"attributes\":{},\"id\":\"3089\",\"type\":\"PanTool\"},{\"attributes\":{},\"id\":\"3116\",\"type\":\"AllLabels\"},{\"attributes\":{\"margin\":[5,5,5,5],\"name\":\"HSpacer02965\",\"sizing_mode\":\"stretch_width\"},\"id\":\"3059\",\"type\":\"Spacer\"},{\"attributes\":{\"tools\":[{\"id\":\"3068\"},{\"id\":\"3088\"},{\"id\":\"3089\"},{\"id\":\"3090\"},{\"id\":\"3091\"},{\"id\":\"3092\"}]},\"id\":\"3094\",\"type\":\"Toolbar\"},{\"attributes\":{\"end\":3565867.475270809,\"min_interval\":5,\"reset_end\":3565867.475270809,\"reset_start\":3437958.81036356,\"start\":3437958.81036356,\"tags\":[[[\"lat\",\"lat\",null]]]},\"id\":\"3065\",\"type\":\"Range1d\"},{\"attributes\":{\"zoom_on_axis\":false},\"id\":\"3090\",\"type\":\"WheelZoomTool\"},{\"attributes\":{\"children\":[{\"id\":\"3059\"},{\"id\":\"3071\"},{\"id\":\"3151\"}],\"margin\":[0,0,0,0],\"name\":\"Row02961\",\"tags\":[\"embedded\"]},\"id\":\"3058\",\"type\":\"Row\"},{\"attributes\":{\"angle\":{\"value\":0.0},\"fill_alpha\":{\"value\":1.0},\"fill_color\":{\"value\":\"#30a2da\"},\"hatch_alpha\":{\"value\":1.0},\"hatch_color\":{\"value\":\"#30a2da\"},\"hatch_scale\":{\"value\":12.0},\"hatch_weight\":{\"value\":1.0},\"line_alpha\":{\"value\":1.0},\"line_cap\":{\"value\":\"butt\"},\"line_color\":{\"value\":\"#30a2da\"},\"line_dash\":{\"value\":[]},\"line_dash_offset\":{\"value\":0},\"line_join\":{\"value\":\"bevel\"},\"line_width\":{\"value\":1},\"marker\":{\"value\":\"circle\"},\"size\":{\"value\":5.477225575051661},\"x\":{\"field\":\"lon\"},\"y\":{\"field\":\"lat\"}},\"id\":\"3144\",\"type\":\"Scatter\"},{\"attributes\":{\"fill_alpha\":{\"value\":0.1},\"fill_color\":{\"value\":\"#30a2da\"},\"hatch_alpha\":{\"value\":0.1},\"hatch_color\":{\"value\":\"#30a2da\"},\"line_alpha\":{\"value\":0.1},\"line_color\":{\"value\":\"#30a2da\"},\"size\":{\"value\":5.477225575051661},\"x\":{\"field\":\"lon\"},\"y\":{\"field\":\"lat\"}},\"id\":\"3138\",\"type\":\"Scatter\"},{\"attributes\":{\"source\":{\"id\":\"3134\"}},\"id\":\"3141\",\"type\":\"CDSView\"},{\"attributes\":{\"data\":{\"lat\":{\"__ndarray__\":\"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\",\"dtype\":\"float64\",\"order\":\"little\",\"shape\":[337]},\"lon\":{\"__ndarray__\":\"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\",\"dtype\":\"float64\",\"order\":\"little\",\"shape\":[337]},\"time\":{\"__ndarray__\":\"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\",\"dtype\":\"float64\",\"order\":\"little\",\"shape\":[337]}},\"selected\":{\"id\":\"3135\"},\"selection_policy\":{\"id\":\"3148\"}},\"id\":\"3134\",\"type\":\"ColumnDataSource\"},{\"attributes\":{\"attribution\":\"&copy; <a href=\\\"https://www.openstreetmap.org/copyright\\\">OpenStreetMap</a> contributors, &copy; <a href=\\\"https://cartodb.com/attributions\\\">CartoDB</a>\",\"url\":\"https://cartodb-basemaps-4.global.ssl.fastly.net/light_all/{Z}/{X}/{Y}.png\"},\"id\":\"3129\",\"type\":\"WMTSTileSource\"},{\"attributes\":{\"coordinates\":null,\"group\":null,\"text_color\":\"black\",\"text_font_size\":\"12pt\"},\"id\":\"3072\",\"type\":\"Title\"},{\"attributes\":{\"dimension\":\"lon\"},\"id\":\"3104\",\"type\":\"MercatorTickFormatter\"}],\"root_ids\":[\"3058\"]},\"title\":\"Bokeh Application\",\"version\":\"2.4.3\"}};\n",
       "    var render_items = [{\"docid\":\"7218fc01-716e-43ca-b852-3ceb7af6d936\",\"root_ids\":[\"3058\"],\"roots\":{\"3058\":\"101693e0-91b2-42ff-a4e9-9a1c4a92a110\"}}];\n",
       "    root.Bokeh.embed.embed_items_notebook(docs_json, render_items);\n",
       "    for (const render_item of render_items) {\n",
       "      for (const root_id of render_item.root_ids) {\n",
       "\tconst id_el = document.getElementById(root_id)\n",
       "\tif (id_el.children.length && (id_el.children[0].className === 'bk-root')) {\n",
       "\t  const root_el = id_el.children[0]\n",
       "\t  root_el.id = root_el.id + '-rendered'\n",
       "\t}\n",
       "      }\n",
       "    }\n",
       "  }\n",
       "  if (root.Bokeh !== undefined && root.Bokeh.Panel !== undefined) {\n",
       "    embed_document(root);\n",
       "  } else {\n",
       "    var attempts = 0;\n",
       "    var timer = setInterval(function(root) {\n",
       "      if (root.Bokeh !== undefined && root.Bokeh.Panel !== undefined) {\n",
       "        clearInterval(timer);\n",
       "        embed_document(root);\n",
       "      } else if (document.readyState == \"complete\") {\n",
       "        attempts++;\n",
       "        if (attempts > 200) {\n",
       "          clearInterval(timer);\n",
       "          console.log(\"Bokeh: ERROR: Unable to run BokehJS code because BokehJS library is missing\");\n",
       "        }\n",
       "      }\n",
       "    }, 25, root)\n",
       "  }\n",
       "})(window);</script>"
      ],
      "text/plain": [
       ":Overlay\n",
       "   .Tiles.I  :Tiles   [x,y]\n",
       "   .Points.I :Points   [lon,lat]   (time)"
      ]
     },
     "execution_count": 37,
     "metadata": {
      "application/vnd.holoviews_exec.v0+json": {
       "id": "3058"
      }
     },
     "output_type": "execute_result"
    }
   ],
   "source": [
    "hdl"
   ]
  },
  {
   "cell_type": "code",
   "execution_count": 38,
   "id": "563e4583-a944-447f-8cd0-2fe1eacb9561",
   "metadata": {},
   "outputs": [],
   "source": [
    "hv.save(hdl, 'out.html')"
   ]
  },
  {
   "cell_type": "code",
   "execution_count": null,
   "id": "d1a527c2-0044-4d13-bd4a-a16595d778d4",
   "metadata": {},
   "outputs": [],
   "source": []
  }
 ],
 "metadata": {
  "kernelspec": {
   "display_name": "Python 3 (ipykernel)",
   "language": "python",
   "name": "python3"
  },
  "language_info": {
   "codemirror_mode": {
    "name": "ipython",
    "version": 3
   },
   "file_extension": ".py",
   "mimetype": "text/x-python",
   "name": "python",
   "nbconvert_exporter": "python",
   "pygments_lexer": "ipython3",
   "version": "3.10.8"
  }
 },
 "nbformat": 4,
 "nbformat_minor": 5
}
